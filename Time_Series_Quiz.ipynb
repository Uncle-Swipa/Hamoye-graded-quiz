{
 "cells": [
  {
   "cell_type": "code",
   "execution_count": 1,
   "id": "8c145d0c-b48b-4f0a-b3dc-67b6c41fcbea",
   "metadata": {},
   "outputs": [],
   "source": [
    "import numpy as np\n",
    "import pandas as pd\n",
    "import warnings\n",
    "warnings.filterwarnings('ignore')"
   ]
  },
  {
   "cell_type": "code",
   "execution_count": 2,
   "id": "54a4a9f5-32d5-45be-9bcf-4cbaa8a2fe5e",
   "metadata": {},
   "outputs": [],
   "source": [
    "df = pd.read_csv(\"household_power_consumption.txt\", delimiter = ';')"
   ]
  },
  {
   "cell_type": "code",
   "execution_count": 3,
   "id": "8e82bbd5-c896-4396-87e4-9b8bbe87ee50",
   "metadata": {},
   "outputs": [
    {
     "data": {
      "text/html": [
       "<div>\n",
       "<style scoped>\n",
       "    .dataframe tbody tr th:only-of-type {\n",
       "        vertical-align: middle;\n",
       "    }\n",
       "\n",
       "    .dataframe tbody tr th {\n",
       "        vertical-align: top;\n",
       "    }\n",
       "\n",
       "    .dataframe thead th {\n",
       "        text-align: right;\n",
       "    }\n",
       "</style>\n",
       "<table border=\"1\" class=\"dataframe\">\n",
       "  <thead>\n",
       "    <tr style=\"text-align: right;\">\n",
       "      <th></th>\n",
       "      <th>Date</th>\n",
       "      <th>Time</th>\n",
       "      <th>Global_active_power</th>\n",
       "      <th>Global_reactive_power</th>\n",
       "      <th>Voltage</th>\n",
       "      <th>Global_intensity</th>\n",
       "      <th>Sub_metering_1</th>\n",
       "      <th>Sub_metering_2</th>\n",
       "      <th>Sub_metering_3</th>\n",
       "    </tr>\n",
       "  </thead>\n",
       "  <tbody>\n",
       "    <tr>\n",
       "      <th>0</th>\n",
       "      <td>16/12/2006</td>\n",
       "      <td>17:24:00</td>\n",
       "      <td>4.216</td>\n",
       "      <td>0.418</td>\n",
       "      <td>234.840</td>\n",
       "      <td>18.400</td>\n",
       "      <td>0.000</td>\n",
       "      <td>1.000</td>\n",
       "      <td>17.0</td>\n",
       "    </tr>\n",
       "    <tr>\n",
       "      <th>1</th>\n",
       "      <td>16/12/2006</td>\n",
       "      <td>17:25:00</td>\n",
       "      <td>5.360</td>\n",
       "      <td>0.436</td>\n",
       "      <td>233.630</td>\n",
       "      <td>23.000</td>\n",
       "      <td>0.000</td>\n",
       "      <td>1.000</td>\n",
       "      <td>16.0</td>\n",
       "    </tr>\n",
       "    <tr>\n",
       "      <th>2</th>\n",
       "      <td>16/12/2006</td>\n",
       "      <td>17:26:00</td>\n",
       "      <td>5.374</td>\n",
       "      <td>0.498</td>\n",
       "      <td>233.290</td>\n",
       "      <td>23.000</td>\n",
       "      <td>0.000</td>\n",
       "      <td>2.000</td>\n",
       "      <td>17.0</td>\n",
       "    </tr>\n",
       "    <tr>\n",
       "      <th>3</th>\n",
       "      <td>16/12/2006</td>\n",
       "      <td>17:27:00</td>\n",
       "      <td>5.388</td>\n",
       "      <td>0.502</td>\n",
       "      <td>233.740</td>\n",
       "      <td>23.000</td>\n",
       "      <td>0.000</td>\n",
       "      <td>1.000</td>\n",
       "      <td>17.0</td>\n",
       "    </tr>\n",
       "    <tr>\n",
       "      <th>4</th>\n",
       "      <td>16/12/2006</td>\n",
       "      <td>17:28:00</td>\n",
       "      <td>3.666</td>\n",
       "      <td>0.528</td>\n",
       "      <td>235.680</td>\n",
       "      <td>15.800</td>\n",
       "      <td>0.000</td>\n",
       "      <td>1.000</td>\n",
       "      <td>17.0</td>\n",
       "    </tr>\n",
       "  </tbody>\n",
       "</table>\n",
       "</div>"
      ],
      "text/plain": [
       "         Date      Time Global_active_power Global_reactive_power  Voltage  \\\n",
       "0  16/12/2006  17:24:00               4.216                 0.418  234.840   \n",
       "1  16/12/2006  17:25:00               5.360                 0.436  233.630   \n",
       "2  16/12/2006  17:26:00               5.374                 0.498  233.290   \n",
       "3  16/12/2006  17:27:00               5.388                 0.502  233.740   \n",
       "4  16/12/2006  17:28:00               3.666                 0.528  235.680   \n",
       "\n",
       "  Global_intensity Sub_metering_1 Sub_metering_2  Sub_metering_3  \n",
       "0           18.400          0.000          1.000            17.0  \n",
       "1           23.000          0.000          1.000            16.0  \n",
       "2           23.000          0.000          2.000            17.0  \n",
       "3           23.000          0.000          1.000            17.0  \n",
       "4           15.800          0.000          1.000            17.0  "
      ]
     },
     "execution_count": 3,
     "metadata": {},
     "output_type": "execute_result"
    }
   ],
   "source": [
    "df.head()"
   ]
  },
  {
   "cell_type": "code",
   "execution_count": 4,
   "id": "afc24c2e-90e2-4ce6-b707-b36eff71de36",
   "metadata": {},
   "outputs": [
    {
     "name": "stdout",
     "output_type": "stream",
     "text": [
      "<class 'pandas.core.frame.DataFrame'>\n",
      "RangeIndex: 2075259 entries, 0 to 2075258\n",
      "Data columns (total 9 columns):\n",
      " #   Column                 Dtype  \n",
      "---  ------                 -----  \n",
      " 0   Date                   object \n",
      " 1   Time                   object \n",
      " 2   Global_active_power    object \n",
      " 3   Global_reactive_power  object \n",
      " 4   Voltage                object \n",
      " 5   Global_intensity       object \n",
      " 6   Sub_metering_1         object \n",
      " 7   Sub_metering_2         object \n",
      " 8   Sub_metering_3         float64\n",
      "dtypes: float64(1), object(8)\n",
      "memory usage: 142.5+ MB\n"
     ]
    }
   ],
   "source": [
    "df.info()"
   ]
  },
  {
   "cell_type": "code",
   "execution_count": 5,
   "id": "1aba171d-9642-4a13-8858-d6cd5982fad4",
   "metadata": {},
   "outputs": [],
   "source": [
    "df['Date'] = pd.to_datetime(df['Date'])"
   ]
  },
  {
   "cell_type": "code",
   "execution_count": 10,
   "id": "c2ea3583-9624-4e6a-9770-d5514827aeba",
   "metadata": {},
   "outputs": [
    {
     "data": {
      "text/plain": [
       "Date                         0\n",
       "Time                         0\n",
       "Global_active_power          0\n",
       "Global_reactive_power        0\n",
       "Voltage                      0\n",
       "Global_intensity             0\n",
       "Sub_metering_1               0\n",
       "Sub_metering_2               0\n",
       "Sub_metering_3           25979\n",
       "dtype: int64"
      ]
     },
     "execution_count": 10,
     "metadata": {},
     "output_type": "execute_result"
    }
   ],
   "source": [
    "df.isna().sum()"
   ]
  },
  {
   "cell_type": "code",
   "execution_count": 26,
   "id": "243f00ff-6064-47c9-bbcd-10df39141786",
   "metadata": {},
   "outputs": [
    {
     "data": {
      "text/html": [
       "<div>\n",
       "<style scoped>\n",
       "    .dataframe tbody tr th:only-of-type {\n",
       "        vertical-align: middle;\n",
       "    }\n",
       "\n",
       "    .dataframe tbody tr th {\n",
       "        vertical-align: top;\n",
       "    }\n",
       "\n",
       "    .dataframe thead th {\n",
       "        text-align: right;\n",
       "    }\n",
       "</style>\n",
       "<table border=\"1\" class=\"dataframe\">\n",
       "  <thead>\n",
       "    <tr style=\"text-align: right;\">\n",
       "      <th></th>\n",
       "      <th>Date</th>\n",
       "      <th>Time</th>\n",
       "      <th>Global_active_power</th>\n",
       "      <th>Global_reactive_power</th>\n",
       "      <th>Voltage</th>\n",
       "      <th>Global_intensity</th>\n",
       "      <th>Sub_metering_1</th>\n",
       "      <th>Sub_metering_2</th>\n",
       "      <th>Sub_metering_3</th>\n",
       "    </tr>\n",
       "  </thead>\n",
       "  <tbody>\n",
       "    <tr>\n",
       "      <th>6839</th>\n",
       "      <td>2006-12-21</td>\n",
       "      <td>11:23:00</td>\n",
       "      <td>?</td>\n",
       "      <td>?</td>\n",
       "      <td>?</td>\n",
       "      <td>?</td>\n",
       "      <td>?</td>\n",
       "      <td>?</td>\n",
       "      <td>NaN</td>\n",
       "    </tr>\n",
       "    <tr>\n",
       "      <th>6840</th>\n",
       "      <td>2006-12-21</td>\n",
       "      <td>11:24:00</td>\n",
       "      <td>?</td>\n",
       "      <td>?</td>\n",
       "      <td>?</td>\n",
       "      <td>?</td>\n",
       "      <td>?</td>\n",
       "      <td>?</td>\n",
       "      <td>NaN</td>\n",
       "    </tr>\n",
       "    <tr>\n",
       "      <th>19724</th>\n",
       "      <td>2006-12-30</td>\n",
       "      <td>10:08:00</td>\n",
       "      <td>?</td>\n",
       "      <td>?</td>\n",
       "      <td>?</td>\n",
       "      <td>?</td>\n",
       "      <td>?</td>\n",
       "      <td>?</td>\n",
       "      <td>NaN</td>\n",
       "    </tr>\n",
       "    <tr>\n",
       "      <th>19725</th>\n",
       "      <td>2006-12-30</td>\n",
       "      <td>10:09:00</td>\n",
       "      <td>?</td>\n",
       "      <td>?</td>\n",
       "      <td>?</td>\n",
       "      <td>?</td>\n",
       "      <td>?</td>\n",
       "      <td>?</td>\n",
       "      <td>NaN</td>\n",
       "    </tr>\n",
       "    <tr>\n",
       "      <th>41832</th>\n",
       "      <td>2007-01-14</td>\n",
       "      <td>18:36:00</td>\n",
       "      <td>?</td>\n",
       "      <td>?</td>\n",
       "      <td>?</td>\n",
       "      <td>?</td>\n",
       "      <td>?</td>\n",
       "      <td>?</td>\n",
       "      <td>NaN</td>\n",
       "    </tr>\n",
       "    <tr>\n",
       "      <th>...</th>\n",
       "      <td>...</td>\n",
       "      <td>...</td>\n",
       "      <td>...</td>\n",
       "      <td>...</td>\n",
       "      <td>...</td>\n",
       "      <td>...</td>\n",
       "      <td>...</td>\n",
       "      <td>...</td>\n",
       "      <td>...</td>\n",
       "    </tr>\n",
       "    <tr>\n",
       "      <th>1990185</th>\n",
       "      <td>2010-09-28</td>\n",
       "      <td>19:09:00</td>\n",
       "      <td>?</td>\n",
       "      <td>?</td>\n",
       "      <td>?</td>\n",
       "      <td>?</td>\n",
       "      <td>?</td>\n",
       "      <td>?</td>\n",
       "      <td>NaN</td>\n",
       "    </tr>\n",
       "    <tr>\n",
       "      <th>1990186</th>\n",
       "      <td>2010-09-28</td>\n",
       "      <td>19:10:00</td>\n",
       "      <td>?</td>\n",
       "      <td>?</td>\n",
       "      <td>?</td>\n",
       "      <td>?</td>\n",
       "      <td>?</td>\n",
       "      <td>?</td>\n",
       "      <td>NaN</td>\n",
       "    </tr>\n",
       "    <tr>\n",
       "      <th>1990187</th>\n",
       "      <td>2010-09-28</td>\n",
       "      <td>19:11:00</td>\n",
       "      <td>?</td>\n",
       "      <td>?</td>\n",
       "      <td>?</td>\n",
       "      <td>?</td>\n",
       "      <td>?</td>\n",
       "      <td>?</td>\n",
       "      <td>NaN</td>\n",
       "    </tr>\n",
       "    <tr>\n",
       "      <th>1990188</th>\n",
       "      <td>2010-09-28</td>\n",
       "      <td>19:12:00</td>\n",
       "      <td>?</td>\n",
       "      <td>?</td>\n",
       "      <td>?</td>\n",
       "      <td>?</td>\n",
       "      <td>?</td>\n",
       "      <td>?</td>\n",
       "      <td>NaN</td>\n",
       "    </tr>\n",
       "    <tr>\n",
       "      <th>2027411</th>\n",
       "      <td>2010-10-24</td>\n",
       "      <td>15:35:00</td>\n",
       "      <td>?</td>\n",
       "      <td>?</td>\n",
       "      <td>?</td>\n",
       "      <td>?</td>\n",
       "      <td>?</td>\n",
       "      <td>?</td>\n",
       "      <td>NaN</td>\n",
       "    </tr>\n",
       "  </tbody>\n",
       "</table>\n",
       "<p>25979 rows × 9 columns</p>\n",
       "</div>"
      ],
      "text/plain": [
       "              Date      Time Global_active_power Global_reactive_power  \\\n",
       "6839    2006-12-21  11:23:00                   ?                     ?   \n",
       "6840    2006-12-21  11:24:00                   ?                     ?   \n",
       "19724   2006-12-30  10:08:00                   ?                     ?   \n",
       "19725   2006-12-30  10:09:00                   ?                     ?   \n",
       "41832   2007-01-14  18:36:00                   ?                     ?   \n",
       "...            ...       ...                 ...                   ...   \n",
       "1990185 2010-09-28  19:09:00                   ?                     ?   \n",
       "1990186 2010-09-28  19:10:00                   ?                     ?   \n",
       "1990187 2010-09-28  19:11:00                   ?                     ?   \n",
       "1990188 2010-09-28  19:12:00                   ?                     ?   \n",
       "2027411 2010-10-24  15:35:00                   ?                     ?   \n",
       "\n",
       "        Voltage Global_intensity Sub_metering_1 Sub_metering_2  Sub_metering_3  \n",
       "6839          ?                ?              ?              ?             NaN  \n",
       "6840          ?                ?              ?              ?             NaN  \n",
       "19724         ?                ?              ?              ?             NaN  \n",
       "19725         ?                ?              ?              ?             NaN  \n",
       "41832         ?                ?              ?              ?             NaN  \n",
       "...         ...              ...            ...            ...             ...  \n",
       "1990185       ?                ?              ?              ?             NaN  \n",
       "1990186       ?                ?              ?              ?             NaN  \n",
       "1990187       ?                ?              ?              ?             NaN  \n",
       "1990188       ?                ?              ?              ?             NaN  \n",
       "2027411       ?                ?              ?              ?             NaN  \n",
       "\n",
       "[25979 rows x 9 columns]"
      ]
     },
     "execution_count": 26,
     "metadata": {},
     "output_type": "execute_result"
    }
   ],
   "source": [
    "df[df['Global_active_power'] == '?']"
   ]
  },
  {
   "cell_type": "code",
   "execution_count": 15,
   "id": "16bf2944-8d8d-48bb-af2d-759455d6a6ab",
   "metadata": {},
   "outputs": [
    {
     "data": {
      "text/plain": [
       "Date                     2075259\n",
       "Time                     2075259\n",
       "Global_active_power      2075259\n",
       "Global_reactive_power    2075259\n",
       "Voltage                  2075259\n",
       "Global_intensity         2075259\n",
       "Sub_metering_1           2075259\n",
       "Sub_metering_2           2075259\n",
       "Sub_metering_3           2049280\n",
       "dtype: int64"
      ]
     },
     "execution_count": 15,
     "metadata": {},
     "output_type": "execute_result"
    }
   ],
   "source": [
    "df.count()"
   ]
  },
  {
   "cell_type": "code",
   "execution_count": 30,
   "id": "91cb3181-1458-4f7b-b0ba-fbbdbb0a5b8f",
   "metadata": {},
   "outputs": [],
   "source": [
    "df['Global_reactive_power'] = df['Global_reactive_power'].str.strip()"
   ]
  },
  {
   "cell_type": "code",
   "execution_count": 40,
   "id": "a93e864c-a73d-4f4e-b94f-4c08f2db75f8",
   "metadata": {},
   "outputs": [],
   "source": [
    "df.drop(df[df['Global_reactive_power'] == '?'].index, inplace = True)"
   ]
  },
  {
   "cell_type": "code",
   "execution_count": 45,
   "id": "69f16150-c473-42b9-8d01-df7bd19327f9",
   "metadata": {},
   "outputs": [],
   "source": [
    "df['Global_active_power'] = df['Global_active_power'].str.strip()"
   ]
  },
  {
   "cell_type": "code",
   "execution_count": 46,
   "id": "f4a6e2d7-32f9-45e9-95a8-118485cd3a58",
   "metadata": {},
   "outputs": [],
   "source": [
    "df['Voltage'] = df['Voltage'].str.strip()"
   ]
  },
  {
   "cell_type": "code",
   "execution_count": 47,
   "id": "4bd1d375-2094-4a84-86fc-56bfb49b1646",
   "metadata": {},
   "outputs": [],
   "source": [
    "df['Global_intensity'] = df['Global_intensity'].str.strip()"
   ]
  },
  {
   "cell_type": "code",
   "execution_count": 48,
   "id": "af3cbe43-6d4e-41b7-a0c6-a136cfdae822",
   "metadata": {},
   "outputs": [],
   "source": [
    "df['Sub_metering_1'] = df['Sub_metering_1'].str.strip()"
   ]
  },
  {
   "cell_type": "code",
   "execution_count": 49,
   "id": "83a35ad8-ff12-42f9-8f6e-fc2bd80cddd1",
   "metadata": {},
   "outputs": [],
   "source": [
    "df['Sub_metering_2'] = df['Sub_metering_2'].str.strip()"
   ]
  },
  {
   "cell_type": "code",
   "execution_count": 51,
   "id": "314af9c7-a231-4899-9021-d83cc6faa9d2",
   "metadata": {},
   "outputs": [
    {
     "data": {
      "text/plain": [
       "Date                         0\n",
       "Time                         0\n",
       "Global_active_power      43643\n",
       "Global_reactive_power    43643\n",
       "Voltage                  43643\n",
       "Global_intensity         43643\n",
       "Sub_metering_1           43643\n",
       "Sub_metering_2           43643\n",
       "Sub_metering_3               0\n",
       "dtype: int64"
      ]
     },
     "execution_count": 51,
     "metadata": {},
     "output_type": "execute_result"
    }
   ],
   "source": [
    "df.isna().sum()"
   ]
  },
  {
   "cell_type": "code",
   "execution_count": 52,
   "id": "ac9f3f63-9d55-404a-857a-c94cf812dc28",
   "metadata": {},
   "outputs": [
    {
     "data": {
      "text/plain": [
       "Date                     2049280\n",
       "Time                     2049280\n",
       "Global_active_power      2005637\n",
       "Global_reactive_power    2005637\n",
       "Voltage                  2005637\n",
       "Global_intensity         2005637\n",
       "Sub_metering_1           2005637\n",
       "Sub_metering_2           2005637\n",
       "Sub_metering_3           2049280\n",
       "dtype: int64"
      ]
     },
     "execution_count": 52,
     "metadata": {},
     "output_type": "execute_result"
    }
   ],
   "source": [
    "df.count()"
   ]
  },
  {
   "cell_type": "code",
   "execution_count": 54,
   "id": "04d93efe-b63d-4db5-8ebe-4cdceb528e18",
   "metadata": {},
   "outputs": [],
   "source": [
    "df.dropna(inplace = True)"
   ]
  },
  {
   "cell_type": "code",
   "execution_count": 55,
   "id": "4687f834-703c-4966-beb8-5ccf3af6f552",
   "metadata": {},
   "outputs": [
    {
     "data": {
      "text/plain": [
       "Date                     2005637\n",
       "Time                     2005637\n",
       "Global_active_power      2005637\n",
       "Global_reactive_power    2005637\n",
       "Voltage                  2005637\n",
       "Global_intensity         2005637\n",
       "Sub_metering_1           2005637\n",
       "Sub_metering_2           2005637\n",
       "Sub_metering_3           2005637\n",
       "dtype: int64"
      ]
     },
     "execution_count": 55,
     "metadata": {},
     "output_type": "execute_result"
    }
   ],
   "source": [
    "df.count()"
   ]
  },
  {
   "cell_type": "code",
   "execution_count": 57,
   "id": "5cd5b6b4-4702-4346-9938-152871e29355",
   "metadata": {},
   "outputs": [
    {
     "data": {
      "text/plain": [
       "Index(['Date', 'Time', 'Global_active_power', 'Global_reactive_power',\n",
       "       'Voltage', 'Global_intensity', 'Sub_metering_1', 'Sub_metering_2',\n",
       "       'Sub_metering_3'],\n",
       "      dtype='object')"
      ]
     },
     "execution_count": 57,
     "metadata": {},
     "output_type": "execute_result"
    }
   ],
   "source": [
    "df.columns"
   ]
  },
  {
   "cell_type": "code",
   "execution_count": 62,
   "id": "6128083d-204d-45d2-8b22-f4716e3907b4",
   "metadata": {},
   "outputs": [],
   "source": [
    "df[['Global_active_power', 'Global_reactive_power', 'Voltage', 'Global_intensity', 'Sub_metering_1', 'Sub_metering_2']] = df[['Global_active_power', 'Global_reactive_power', 'Voltage', 'Global_intensity', 'Sub_metering_1', 'Sub_metering_2']].astype(float)"
   ]
  },
  {
   "cell_type": "code",
   "execution_count": 63,
   "id": "ecee40ad-8e4c-46f2-ad18-a11df6098b0e",
   "metadata": {},
   "outputs": [
    {
     "name": "stdout",
     "output_type": "stream",
     "text": [
      "<class 'pandas.core.frame.DataFrame'>\n",
      "Int64Index: 2005637 entries, 0 to 2031615\n",
      "Data columns (total 9 columns):\n",
      " #   Column                 Dtype         \n",
      "---  ------                 -----         \n",
      " 0   Date                   datetime64[ns]\n",
      " 1   Time                   object        \n",
      " 2   Global_active_power    float64       \n",
      " 3   Global_reactive_power  float64       \n",
      " 4   Voltage                float64       \n",
      " 5   Global_intensity       float64       \n",
      " 6   Sub_metering_1         float64       \n",
      " 7   Sub_metering_2         float64       \n",
      " 8   Sub_metering_3         float64       \n",
      "dtypes: datetime64[ns](1), float64(7), object(1)\n",
      "memory usage: 153.0+ MB\n"
     ]
    }
   ],
   "source": [
    "df.info()"
   ]
  },
  {
   "cell_type": "code",
   "execution_count": 73,
   "id": "4e412501-ebc1-4830-9215-9e4d60ded9a7",
   "metadata": {},
   "outputs": [],
   "source": [
    "df['Time'] = pd.to_datetime(df['Time'])"
   ]
  },
  {
   "cell_type": "code",
   "execution_count": 69,
   "id": "f695298d-d8d5-419f-a43e-be319998fdd5",
   "metadata": {},
   "outputs": [],
   "source": [
    "x = np.array(df['Voltage'])"
   ]
  },
  {
   "cell_type": "code",
   "execution_count": 70,
   "id": "68393556-2672-4ae6-aa9c-ff6f15ac9220",
   "metadata": {},
   "outputs": [],
   "source": [
    "y = np.array(df['Global_intensity'])"
   ]
  },
  {
   "cell_type": "code",
   "execution_count": 71,
   "id": "47bbf03d-5624-4bd3-a968-3cc14713d3a6",
   "metadata": {},
   "outputs": [
    {
     "data": {
      "text/plain": [
       "array([[ 1.        , -0.40894279],\n",
       "       [-0.40894279,  1.        ]])"
      ]
     },
     "execution_count": 71,
     "metadata": {},
     "output_type": "execute_result"
    }
   ],
   "source": [
    "np.corrcoef(x, y)"
   ]
  },
  {
   "cell_type": "code",
   "execution_count": 77,
   "id": "d9a1d830-3cbe-4734-8b57-9200b4423ce0",
   "metadata": {},
   "outputs": [],
   "source": [
    "df.set_index('Date', inplace = True)"
   ]
  },
  {
   "cell_type": "code",
   "execution_count": 78,
   "id": "334b562e-956e-4765-9c24-8c747cd10da2",
   "metadata": {},
   "outputs": [],
   "source": [
    "df_daily = df.resample('D').mean()"
   ]
  },
  {
   "cell_type": "code",
   "execution_count": 79,
   "id": "9a284095-ed7e-4b76-bf87-760bc6fe53ad",
   "metadata": {},
   "outputs": [],
   "source": [
    "import matplotlib.pyplot as plt"
   ]
  },
  {
   "cell_type": "code",
   "execution_count": 81,
   "id": "07e7461a-42f6-4c08-b51a-334d6ff83c36",
   "metadata": {},
   "outputs": [
    {
     "data": {
      "text/plain": [
       "[<matplotlib.lines.Line2D at 0x29900dcc310>]"
      ]
     },
     "execution_count": 81,
     "metadata": {},
     "output_type": "execute_result"
    },
    {
     "data": {
      "image/png": "[encoded data removed]",
      "text/plain": [
       "<Figure size 432x288 with 1 Axes>"
      ]
     },
     "metadata": {
      "needs_background": "light"
     },
     "output_type": "display_data"
    }
   ],
   "source": [
    "plt.plot(df_daily.index, df_daily.Global_active_power)"
   ]
  },
  {
   "cell_type": "code",
   "execution_count": null,
   "id": "55e0ff16-e7e5-4989-b7f7-9b980e5af451",
   "metadata": {},
   "outputs": [],
   "source": []
  }
 ],
 "metadata": {
  "kernelspec": {
   "display_name": "Python 3",
   "language": "python",
   "name": "python3"
  },
  "language_info": {
   "codemirror_mode": {
    "name": "ipython",
    "version": 3
   },
   "file_extension": ".py",
   "mimetype": "text/x-python",
   "name": "python",
   "nbconvert_exporter": "python",
   "pygments_lexer": "ipython3",
   "version": "3.8.8"
  }
 },
 "nbformat": 4,
 "nbformat_minor": 5
}
